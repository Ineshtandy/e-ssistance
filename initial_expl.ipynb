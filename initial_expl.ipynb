{
 "cells": [
  {
   "cell_type": "code",
   "execution_count": 3,
   "id": "9a76dc67",
   "metadata": {},
   "outputs": [
    {
     "name": "stdout",
     "output_type": "stream",
     "text": [
      "hello world\n"
     ]
    }
   ],
   "source": [
    "print('hello world')"
   ]
  },
  {
   "cell_type": "code",
   "execution_count": 32,
   "id": "6d69b600",
   "metadata": {},
   "outputs": [],
   "source": [
    "email = \"\"\"Hey IT,\n",
    "\n",
    "My name is Ryan and I am a Recruiter here at Kognitos -  nice to e-meet you! I saw that you applied for the Software Engineer - Intern (Summer 2025) and we'd like to move to the next step in the interview process! We'd like to schedule an intro call with you. Could you please book a time for a quick intro call with us. If you don't see anything that works for your schedule, feel free to provide me with a few dates and times and I will do my best to accommodate.\n",
    "In the meantime we know that job postings only tell part of a companies story, so we encourage you to dive deeper through the various links below.\"\"\"\n",
    "\n",
    "user_query = 'write an email thanking and replying to the email in a professional manner mention that you are available anytime'\n",
    "category = 'professional'"
   ]
  },
  {
   "cell_type": "code",
   "execution_count": 33,
   "id": "631dc67d",
   "metadata": {},
   "outputs": [
    {
     "data": {
      "text/plain": [
       "True"
      ]
     },
     "execution_count": 33,
     "metadata": {},
     "output_type": "execute_result"
    }
   ],
   "source": [
    "import os\n",
    "from dotenv import load_dotenv\n",
    "from langchain_google_genai import ChatGoogleGenerativeAI\n",
    "from langchain.schema import SystemMessage, HumanMessage\n",
    "load_dotenv()"
   ]
  },
  {
   "cell_type": "code",
   "execution_count": 55,
   "id": "78136cf3",
   "metadata": {},
   "outputs": [],
   "source": [
    "llm = ChatGoogleGenerativeAI(\n",
    "    model=\"gemini-2.0-flash\",\n",
    "    temperature=0,\n",
    "    max_tokens=None,\n",
    "    timeout=None,\n",
    "    max_retries=2,\n",
    "    # other params...\n",
    ")"
   ]
  },
  {
   "cell_type": "code",
   "execution_count": 56,
   "id": "cb116873",
   "metadata": {},
   "outputs": [],
   "source": [
    "from pydantic import BaseModel, Field\n",
    "class ResponseFormatter(BaseModel):\n",
    "    \"\"\"Structured output for rewriting a query for semantic search over email templates.\"\"\"\n",
    "    retrieval_query: str = Field(\n",
    "        description=\"The optimized query to retrieve semantically similar email responses.\"\n",
    "    )\n",
    "    retrieval_keywords: str = Field(\n",
    "        description=\"Essential keywords (space separated) that capture the core intent of the user query.\"\n",
    "    )\n",
    "    # purpose: str = Field(\n",
    "    #     description=\"Whether the user is writing a new email or replying to an existing one. Must be one of: 'writing', 'replying'.\"\n",
    "    # )\n",
    "    # intent: str = Field(\n",
    "    #     description=(\n",
    "    #         \"The functional intent of the email. Must be one of: \"\n",
    "    #         \"'requesting', 'inquiring', 'thanking', 'informing', 'apology', 'scheduling'.\"\n",
    "    #     )\n",
    "    # )"
   ]
  },
  {
   "cell_type": "code",
   "execution_count": 57,
   "id": "d3db96a8",
   "metadata": {},
   "outputs": [],
   "source": [
    "structured_llm = llm.with_structured_output(ResponseFormatter)"
   ]
  },
  {
   "cell_type": "markdown",
   "id": "1b2960b2",
   "metadata": {},
   "source": [
    "# query rewriting for retrieval"
   ]
  },
  {
   "cell_type": "code",
   "execution_count": 58,
   "id": "afba7841",
   "metadata": {},
   "outputs": [],
   "source": [
    "def rewrite(email_content: str, user_query: str, purpose: str, intent: str, style: str) -> ResponseFormatter:\n",
    "        messages = [\n",
    "            SystemMessage(content=(\n",
    "                \"You are a professional email assistant. You will be given:\\n\"\n",
    "                \"- `email_content`: the original email text\\n\"\n",
    "                \"- `user_query`: what the user wants to write\\n\"\n",
    "                \"- `purpose`: whether the user is writing a new email or replying\\n\"\n",
    "                \"- `intent`: the goal of the email (e.g. requesting, thanking, informing, etc.)\\n\\n\"\n",
    "                f\"Use this context to reformulate the user query into a **retrieval query** that captures the user's intent \"\n",
    "                f\"and tone, optimized for semantic similarity search over email response templates.\\n\"\n",
    "                f\"The tone should match the style: {style}.\\n\\n\"\n",
    "                \"Return:\\n\"\n",
    "                \"- `retrieval_query`: one concise natural language sentence\\n\"\n",
    "                \"- `retrieval_keywords`: a space-separated list of keywords\"\n",
    "            )),\n",
    "            HumanMessage(content=f\"Email Content:\\n{email_content}\"),\n",
    "            HumanMessage(content=f\"User Query:\\n{user_query}\"),\n",
    "            HumanMessage(content=f\"Purpose: {purpose}\"),\n",
    "            HumanMessage(content=f\"Intent: {intent}\")\n",
    "        ]\n",
    "\n",
    "        response = structured_llm.invoke(messages)\n",
    "        return response"
   ]
  },
  {
   "cell_type": "code",
   "execution_count": 60,
   "id": "08381e41",
   "metadata": {},
   "outputs": [],
   "source": [
    "struct_llm_response = rewrite(email_content=email,user_query=user_query,style='professional',purpose='replying',intent='thanking')"
   ]
  },
  {
   "cell_type": "code",
   "execution_count": 61,
   "id": "ec82cdd2",
   "metadata": {},
   "outputs": [
    {
     "data": {
      "text/plain": [
       "ResponseFormatter(retrieval_query='Write a professional email thanking the recruiter and stating availability for a call anytime.', retrieval_keywords='thank you available anytime')"
      ]
     },
     "execution_count": 61,
     "metadata": {},
     "output_type": "execute_result"
    }
   ],
   "source": [
    "struct_llm_response"
   ]
  },
  {
   "cell_type": "markdown",
   "id": "76e7920d",
   "metadata": {},
   "source": [
    "# rag"
   ]
  },
  {
   "cell_type": "code",
   "execution_count": 16,
   "id": "1e4bd9b4",
   "metadata": {},
   "outputs": [],
   "source": [
    "with open(\"emails.txt\", \"r\", encoding=\"utf-8\") as f:\n",
    "    full_text = f.read()\n",
    "\n",
    "# Split using delimiter\n",
    "docs = full_text.split('---')\n",
    "docs = [doc.strip() for doc in docs if doc.strip()]"
   ]
  },
  {
   "cell_type": "code",
   "execution_count": 54,
   "id": "874b3921",
   "metadata": {},
   "outputs": [
    {
     "data": {
      "text/plain": [
       "['Subject: Acknowledgment of Your Email\\n\\nDear [Recipient’s Name],\\n\\nThank you for your email. I have received your message and will get back to you shortly. Your inquiry is important to us, and I appreciate your patience as I review the details.\\n\\nPlease feel free to reach out if you have any additional information to share.\\n\\nBest regards,\\n\\n[Your Company Name]',\n",
       " 'Subject: Acknowledgment of Your Inquiry on [Specific Topic]\\n\\nHi [Recipient’s Name],\\n\\nThank you for your email regarding [specific topic]. I am confirming that I have received your message. I will review the details and aim to respond by [specific date/time]. Your input is valuable, and I want to address your concerns thoroughly.\\n\\nIf you have any further information to share, please feel free to do so.\\n\\nBest regards,\\n\\n[Your Company Name]',\n",
       " 'Subject: Acknowledgment of Your Request: [Request Title]\\n\\nDear [Recipient’s Name],\\n\\nI appreciate your request for [specific details] and am happy to assist with it. Your request is important to me, and I will ensure that I provide the necessary information.\\n\\nPlease let me know if you need anything else in the meantime.\\n\\nWarm regards,\\n\\n[Your Name]',\n",
       " 'Subject: Update on Your Request: [Request Title]\\n\\nHi [Recipient’s Name],\\n\\nThank you for reaching out regarding [specific request]. Unfortunately, I am unable to [explain the reason]. I appreciate your understanding in this matter, and I apologize for any inconvenience this may cause.\\n\\nIf there’s anything else I can assist you with or if you have further questions, please let me know.\\n\\nSincerely,\\n\\n[Your Name]',\n",
       " 'Subject: Information Regarding Your Inquiry: [Question Title]\\n\\nDear [Recipient’s Name],\\n\\nThank you for your inquiry about [specific topic]. Here are the details you requested:\\n\\n[Point 1]\\n[Point 2]\\n[Point 3]\\nI hope this information is helpful! If you have any further questions or need additional details, please feel free to reach out.\\n\\nBest wishes,\\n\\n[Your Name]',\n",
       " 'Subject: Your Question on [Question Title]\\n\\nHi [Recipient’s Name],\\n\\nI appreciate your question about [specific topic]. However, I believe that [Alternative Contact Name] would be better suited to provide you with the information you need. You can reach them at [Contact Information].\\n\\nIf there’s anything else I can assist you with or if you have further questions, please don’t hesitate to let me know.\\n\\nBest Regards,\\n\\n[Your Name]',\n",
       " 'Subject: Follow-Up on [Original Subject]\\n\\nDear [Recipient’s Name],\\n\\nI hope this message finds you well. I am following up on my previous email regarding [specific topic]. If you could provide me with an update at your earliest convenience, I would greatly appreciate it.\\n\\nThank you for your attention to this matter!\\n\\nBest regards,\\n\\n[Your Name]',\n",
       " 'Subject: Thank You for the Meeting\\n\\nHi [Recipient’s Name],\\n\\nThank you for taking the time to meet with me on [date]. I found our discussion on [specific topics] very insightful.\\n\\nI wanted to follow up on our conversation and see if there’s anything else we need to address. Please feel free to share any additional thoughts.\\n\\nLooking forward to your reply!\\n\\nWarm regards,\\n\\n[Your Name]',\n",
       " 'Subject: Apologies for the Delay\\n\\nDear [Recipient’s Name],\\n\\nI hope you’re doing well. I sincerely apologize for my delayed response to your email regarding [specific topic]. I appreciate your patience and understanding.\\n\\nPlease let me know how I can assist you further.\\n\\nBest Regards,\\n\\n[Your Name]',\n",
       " 'Subject: My Apologies Regarding [Specific Issue]\\n\\nHi [Recipient’s Name],\\n\\nI want to extend my sincerest apologies for the oversight regarding [specific issue]. I understand the inconvenience it may have caused, and I am currently working to rectify the situation as quickly as possible.\\n\\nThank you for your understanding and patience during this time. I truly appreciate your continued support and will keep you updated on our progress.\\n\\nSincerely,\\n\\n[Your Name]',\n",
       " 'Subject: Thank You for Your Support!\\n\\nDear [Recipient’s Name],\\n\\nI wanted to take a moment to thank you for your assistance with [specific issue]. Your support made a significant difference, and I truly appreciate your help in navigating this matter.\\n\\nI look forward to working together again in the future!\\n\\nBest regards,\\n\\n[Your Name]',\n",
       " 'Subject: Thank You for the Meeting\\n\\nHi [Recipient’s Name],\\n\\nThank you for the productive meeting on [date]. I enjoyed discussing [specific topics] with you and am excited about the next steps we outlined. Your insights were invaluable, and I believe we’re on a great path forward.\\n\\nIf you have any additional thoughts or questions, please don’t hesitate to reach out.\\n\\nWarm wishes,\\n\\n[Your Name]',\n",
       " 'Subject: Thank You for Your Feedback!\\n\\nDear [Recipient’s Name],\\n\\nThank you for your kind words regarding [specific feedback]. I truly appreciate your support and encouragement. Your feedback motivates me to continue improving and striving for excellence, ensuring that I can provide the best possible service.\\n\\nIf you have any further suggestions or thoughts, please feel free to share them. Your insights are invaluable to my growth.\\n\\nBest regards,\\n\\n[Your Name]',\n",
       " 'Subject: Thank you for the Feedback on [Topic]\\n\\nHi [Recipient’s Name],\\n\\nThank you for your feedback on [specific topic]. I truly value your insights and will certainly consider them as I move forward. Your perspective is important to me, and it helps guide my decisions.\\n\\nIf you have any additional thoughts or suggestions, please feel free to share. I appreciate your input!\\n\\nSincerely,\\n\\n[Your Name]',\n",
       " 'Subject: Appointment Confirmation for [Date and Time]\\n\\nDear [Recipient’s Name],\\n\\nThis is to confirm our appointment on [date and time]. We will meet at [location or platform].\\n\\nI look forward to our discussion and am eager to explore the topics at hand. If you have any specific topics you would like to discuss, please let me know in advance so I can prepare accordingly.\\n\\nBest regards,\\n\\n[Your Name]',\n",
       " 'Subject: Request to Reschedule Appointment\\n\\nHi [Recipient’s Name],\\n\\nI hope this message finds you well. Unfortunately, I need to reschedule our appointment, which was originally set for [original date and time]. Would [new date and time] work for you?\\n\\nThank you for your understanding.\\n\\nWarm wishes,\\n\\n[Your Name]',\n",
       " 'Subject: Meeting Invitation for [Specific Meeting or Event]\\n\\nDear [Recipient’s Name],\\n\\nThank you for the invitation to [specific meeting or event]. Unfortunately, I will not be able to attend due to [reason]. I appreciate the opportunity and hope to connect soon to discuss any important updates or insights from the meeting.\\n\\nPlease keep me in the loop, and I look forward to our next conversation.\\n\\nBest,\\n\\n[Your Name]',\n",
       " 'Subject: Thank You for the Invitation to [Specific Event]\\n\\nHi [Recipient’s Name],\\n\\nI appreciate your invitation to [specific event]. Unfortunately, I won’t be able to make it this time. I hope you all have a wonderful time, and I would love to catch up soon to hear all about it!\\n\\nWarm regards,\\n\\n[Your Name]',\n",
       " \"Subject: Final Note about [Topic]\\n\\nDear [Recipient’s Name],\\n\\nI'm sending you a final note regarding [specific topic]. Thank you for your collaboration on this project.\\n\\nIf you have any further questions or need additional assistance in the future, please feel free to let me know.\\n\\nBest wishes,\\n\\n[Your Name]\",\n",
       " 'Subject: Thank You for Everything!\\n\\nHi [Recipient’s Name],\\n\\nAs we conclude our work on [specific project], I wanted to express my gratitude for your support and partnership. It’s been a pleasure working with you.\\n\\nWishing you all the best in your future endeavors!\\n\\nSincerely,\\n\\n[Your Name]']"
      ]
     },
     "execution_count": 54,
     "metadata": {},
     "output_type": "execute_result"
    }
   ],
   "source": [
    "docs"
   ]
  },
  {
   "cell_type": "code",
   "execution_count": 18,
   "id": "4cb4f7e0",
   "metadata": {},
   "outputs": [],
   "source": [
    "from langchain.schema import Document\n",
    "\n",
    "documents = [Document(page_content=doc) for doc in docs]"
   ]
  },
  {
   "cell_type": "code",
   "execution_count": 19,
   "id": "b5676b9d",
   "metadata": {},
   "outputs": [],
   "source": [
    "from langchain.text_splitter import CharacterTextSplitter\n",
    "text_splitter = CharacterTextSplitter(chunk_size=300, chunk_overlap=50)\n",
    "chunks = text_splitter.split_documents(documents)"
   ]
  },
  {
   "cell_type": "code",
   "execution_count": 21,
   "id": "bcfd10e1",
   "metadata": {},
   "outputs": [
    {
     "name": "stdout",
     "output_type": "stream",
     "text": [
      "[Document(metadata={}, page_content='Subject: Acknowledgment of Your Email\\n\\nDear [Recipient’s Name],\\n\\nThank you for your email. I have received your message and will get back to you shortly. Your inquiry is important to us, and I appreciate your patience as I review the details.'), Document(metadata={}, page_content='Please feel free to reach out if you have any additional information to share.\\n\\nBest regards,\\n\\n[Your Company Name]'), Document(metadata={}, page_content='Subject: Acknowledgment of Your Inquiry on [Specific Topic]\\n\\nHi [Recipient’s Name],'), Document(metadata={}, page_content='Hi [Recipient’s Name],\\n\\nThank you for your email regarding [specific topic]. I am confirming that I have received your message. I will review the details and aim to respond by [specific date/time]. Your input is valuable, and I want to address your concerns thoroughly.'), Document(metadata={}, page_content='If you have any further information to share, please feel free to do so.\\n\\nBest regards,\\n\\n[Your Company Name]'), Document(metadata={}, page_content='Subject: Acknowledgment of Your Request: [Request Title]\\n\\nDear [Recipient’s Name],\\n\\nI appreciate your request for [specific details] and am happy to assist with it. Your request is important to me, and I will ensure that I provide the necessary information.'), Document(metadata={}, page_content='Please let me know if you need anything else in the meantime.\\n\\nWarm regards,\\n\\n[Your Name]'), Document(metadata={}, page_content='Subject: Update on Your Request: [Request Title]\\n\\nHi [Recipient’s Name],\\n\\nThank you for reaching out regarding [specific request]. Unfortunately, I am unable to [explain the reason]. I appreciate your understanding in this matter, and I apologize for any inconvenience this may cause.'), Document(metadata={}, page_content='If there’s anything else I can assist you with or if you have further questions, please let me know.\\n\\nSincerely,\\n\\n[Your Name]'), Document(metadata={}, page_content='Subject: Information Regarding Your Inquiry: [Question Title]\\n\\nDear [Recipient’s Name],\\n\\nThank you for your inquiry about [specific topic]. Here are the details you requested:'), Document(metadata={}, page_content='[Point 1]\\n[Point 2]\\n[Point 3]\\nI hope this information is helpful! If you have any further questions or need additional details, please feel free to reach out.\\n\\nBest wishes,\\n\\n[Your Name]'), Document(metadata={}, page_content='Subject: Your Question on [Question Title]\\n\\nHi [Recipient’s Name],\\n\\nI appreciate your question about [specific topic]. However, I believe that [Alternative Contact Name] would be better suited to provide you with the information you need. You can reach them at [Contact Information].'), Document(metadata={}, page_content='If there’s anything else I can assist you with or if you have further questions, please don’t hesitate to let me know.\\n\\nBest Regards,\\n\\n[Your Name]'), Document(metadata={}, page_content='Subject: Follow-Up on [Original Subject]\\n\\nDear [Recipient’s Name],\\n\\nI hope this message finds you well. I am following up on my previous email regarding [specific topic]. If you could provide me with an update at your earliest convenience, I would greatly appreciate it.'), Document(metadata={}, page_content='Thank you for your attention to this matter!\\n\\nBest regards,\\n\\n[Your Name]'), Document(metadata={}, page_content='Subject: Thank You for the Meeting\\n\\nHi [Recipient’s Name],\\n\\nThank you for taking the time to meet with me on [date]. I found our discussion on [specific topics] very insightful.'), Document(metadata={}, page_content='I wanted to follow up on our conversation and see if there’s anything else we need to address. Please feel free to share any additional thoughts.\\n\\nLooking forward to your reply!\\n\\nWarm regards,\\n\\n[Your Name]'), Document(metadata={}, page_content='Subject: Apologies for the Delay\\n\\nDear [Recipient’s Name],\\n\\nI hope you’re doing well. I sincerely apologize for my delayed response to your email regarding [specific topic]. I appreciate your patience and understanding.\\n\\nPlease let me know how I can assist you further.\\n\\nBest Regards,\\n\\n[Your Name]'), Document(metadata={}, page_content='Subject: My Apologies Regarding [Specific Issue]\\n\\nHi [Recipient’s Name],\\n\\nI want to extend my sincerest apologies for the oversight regarding [specific issue]. I understand the inconvenience it may have caused, and I am currently working to rectify the situation as quickly as possible.'), Document(metadata={}, page_content='Thank you for your understanding and patience during this time. I truly appreciate your continued support and will keep you updated on our progress.\\n\\nSincerely,\\n\\n[Your Name]'), Document(metadata={}, page_content='Subject: Thank You for Your Support!\\n\\nDear [Recipient’s Name],\\n\\nI wanted to take a moment to thank you for your assistance with [specific issue]. Your support made a significant difference, and I truly appreciate your help in navigating this matter.'), Document(metadata={}, page_content='I look forward to working together again in the future!\\n\\nBest regards,\\n\\n[Your Name]'), Document(metadata={}, page_content='Subject: Thank You for the Meeting\\n\\nHi [Recipient’s Name],\\n\\nThank you for the productive meeting on [date]. I enjoyed discussing [specific topics] with you and am excited about the next steps we outlined. Your insights were invaluable, and I believe we’re on a great path forward.'), Document(metadata={}, page_content='If you have any additional thoughts or questions, please don’t hesitate to reach out.\\n\\nWarm wishes,\\n\\n[Your Name]'), Document(metadata={}, page_content='Subject: Thank You for Your Feedback!\\n\\nDear [Recipient’s Name],'), Document(metadata={}, page_content='Dear [Recipient’s Name],\\n\\nThank you for your kind words regarding [specific feedback]. I truly appreciate your support and encouragement. Your feedback motivates me to continue improving and striving for excellence, ensuring that I can provide the best possible service.'), Document(metadata={}, page_content='If you have any further suggestions or thoughts, please feel free to share them. Your insights are invaluable to my growth.\\n\\nBest regards,\\n\\n[Your Name]'), Document(metadata={}, page_content='Subject: Thank you for the Feedback on [Topic]\\n\\nHi [Recipient’s Name],\\n\\nThank you for your feedback on [specific topic]. I truly value your insights and will certainly consider them as I move forward. Your perspective is important to me, and it helps guide my decisions.'), Document(metadata={}, page_content='If you have any additional thoughts or suggestions, please feel free to share. I appreciate your input!\\n\\nSincerely,\\n\\n[Your Name]'), Document(metadata={}, page_content='Subject: Appointment Confirmation for [Date and Time]\\n\\nDear [Recipient’s Name],\\n\\nThis is to confirm our appointment on [date and time]. We will meet at [location or platform].'), Document(metadata={}, page_content='I look forward to our discussion and am eager to explore the topics at hand. If you have any specific topics you would like to discuss, please let me know in advance so I can prepare accordingly.\\n\\nBest regards,\\n\\n[Your Name]'), Document(metadata={}, page_content='Subject: Request to Reschedule Appointment\\n\\nHi [Recipient’s Name],\\n\\nI hope this message finds you well. Unfortunately, I need to reschedule our appointment, which was originally set for [original date and time]. Would [new date and time] work for you?\\n\\nThank you for your understanding.\\n\\nWarm wishes,'), Document(metadata={}, page_content='Thank you for your understanding.\\n\\nWarm wishes,\\n\\n[Your Name]'), Document(metadata={}, page_content='Subject: Meeting Invitation for [Specific Meeting or Event]\\n\\nDear [Recipient’s Name],'), Document(metadata={}, page_content='Dear [Recipient’s Name],\\n\\nThank you for the invitation to [specific meeting or event]. Unfortunately, I will not be able to attend due to [reason]. I appreciate the opportunity and hope to connect soon to discuss any important updates or insights from the meeting.'), Document(metadata={}, page_content='Please keep me in the loop, and I look forward to our next conversation.\\n\\nBest,\\n\\n[Your Name]'), Document(metadata={}, page_content='Subject: Thank You for the Invitation to [Specific Event]\\n\\nHi [Recipient’s Name],\\n\\nI appreciate your invitation to [specific event]. Unfortunately, I won’t be able to make it this time. I hope you all have a wonderful time, and I would love to catch up soon to hear all about it!\\n\\nWarm regards,'), Document(metadata={}, page_content='Warm regards,\\n\\n[Your Name]'), Document(metadata={}, page_content=\"Subject: Final Note about [Topic]\\n\\nDear [Recipient’s Name],\\n\\nI'm sending you a final note regarding [specific topic]. Thank you for your collaboration on this project.\\n\\nIf you have any further questions or need additional assistance in the future, please feel free to let me know.\\n\\nBest wishes,\"), Document(metadata={}, page_content='Best wishes,\\n\\n[Your Name]'), Document(metadata={}, page_content='Subject: Thank You for Everything!\\n\\nHi [Recipient’s Name],\\n\\nAs we conclude our work on [specific project], I wanted to express my gratitude for your support and partnership. It’s been a pleasure working with you.\\n\\nWishing you all the best in your future endeavors!\\n\\nSincerely,\\n\\n[Your Name]')]\n"
     ]
    }
   ],
   "source": [
    "print(chunks)"
   ]
  },
  {
   "cell_type": "code",
   "execution_count": 28,
   "id": "a5e951f4",
   "metadata": {},
   "outputs": [],
   "source": [
    "from langchain.schema import Document\n",
    "import re\n",
    "\n",
    "def parse_email(raw_text):\n",
    "    \"\"\"Extract subject and body from email string.\"\"\"\n",
    "    match = re.match(r\"Subject:\\s*(.*?)\\n\\n(.*)\", raw_text, re.DOTALL)\n",
    "    if match:\n",
    "        subject = match.group(1).strip()\n",
    "        body = match.group(2).strip()\n",
    "    else:\n",
    "        subject = \"Unknown Subject\"\n",
    "        body = raw_text.strip()\n",
    "    return subject, body\n",
    "\n",
    "# Convert to list of LangChain Documents\n",
    "email_documents = []\n",
    "for raw_doc in docs:\n",
    "    subject, body = parse_email(raw_doc)\n",
    "    email_documents.append(\n",
    "        Document(\n",
    "            page_content=body,\n",
    "            metadata={\"subject\": subject}\n",
    "        )\n",
    "    )"
   ]
  },
  {
   "cell_type": "code",
   "execution_count": 29,
   "id": "84afb379",
   "metadata": {},
   "outputs": [
    {
     "data": {
      "text/plain": [
       "Document(metadata={'subject': 'Acknowledgment of Your Email'}, page_content='Dear [Recipient’s Name],\\n\\nThank you for your email. I have received your message and will get back to you shortly. Your inquiry is important to us, and I appreciate your patience as I review the details.\\n\\nPlease feel free to reach out if you have any additional information to share.\\n\\nBest regards,\\n\\n[Your Company Name]')"
      ]
     },
     "execution_count": 29,
     "metadata": {},
     "output_type": "execute_result"
    }
   ],
   "source": [
    "email_documents[0]"
   ]
  },
  {
   "cell_type": "code",
   "execution_count": 25,
   "id": "2eeba33d",
   "metadata": {},
   "outputs": [],
   "source": [
    "from langchain.embeddings import HuggingFaceEmbeddings\n",
    "\n",
    "EMBEDDING_MODEL = \"all-MiniLM-L6-v2\"\n",
    "embedder = HuggingFaceEmbeddings(model_name=EMBEDDING_MODEL)"
   ]
  },
  {
   "cell_type": "markdown",
   "id": "ec9d8ad6",
   "metadata": {},
   "source": [
    "traditional weavite client setup"
   ]
  },
  {
   "cell_type": "code",
   "execution_count": 27,
   "id": "3dc577c1",
   "metadata": {},
   "outputs": [
    {
     "name": "stdout",
     "output_type": "stream",
     "text": [
      "True\n"
     ]
    }
   ],
   "source": [
    "import weaviate\n",
    "\n",
    "client = weaviate.connect_to_local()\n",
    "\n",
    "print(client.is_ready())\n",
    "\n",
    "client.close()"
   ]
  },
  {
   "cell_type": "markdown",
   "id": "f3cc3f3f",
   "metadata": {},
   "source": [
    "setting up a collection in the database\n",
    "\n",
    "a collection is a set of objects that share the same data structure\n",
    "\n",
    "'Before you import data, you should create a collection definition to define the data properties for the collection'"
   ]
  },
  {
   "cell_type": "markdown",
   "id": "5f2d94cd",
   "metadata": {},
   "source": [
    "langchain integration with weaviate"
   ]
  },
  {
   "cell_type": "code",
   "execution_count": 63,
   "id": "dec694aa",
   "metadata": {},
   "outputs": [],
   "source": [
    "import weaviate\n",
    "# from langchain_community.vectorstores import Weaviate # deprecated \n",
    "from langchain_weaviate.vectorstores import WeaviateVectorStore\n",
    "\n",
    "client = weaviate.connect_to_local()\n",
    "\n",
    "vectorstore = WeaviateVectorStore.from_documents(\n",
    "    documents=email_documents,\n",
    "    client=client,\n",
    "    index_name='EmailTemplates',\n",
    "    text_key='content',\n",
    "    embedding=embedder,\n",
    "    by_text=False\n",
    ")"
   ]
  },
  {
   "cell_type": "markdown",
   "id": "c8538e1f",
   "metadata": {},
   "source": [
    "searching"
   ]
  },
  {
   "cell_type": "code",
   "execution_count": 64,
   "id": "219db978",
   "metadata": {},
   "outputs": [],
   "source": [
    "query = struct_llm_response.retrieval_query\n",
    "similar_docs = vectorstore.similarity_search(query)\n",
    "\n",
    "# for i, doc in enumerate(similar_docs):\n",
    "#     print(f\"\\nDocument {i + 1}:\")\n",
    "#     print(doc.page_content[:100] + \"...\")"
   ]
  },
  {
   "cell_type": "code",
   "execution_count": 65,
   "id": "5e4ba58d",
   "metadata": {},
   "outputs": [
    {
     "data": {
      "text/plain": [
       "Document(metadata={'text': None, 'subject': 'Acknowledgment of Your Email'}, page_content='Dear [Recipient’s Name],\\n\\nThank you for your email. I have received your message and will get back to you shortly. Your inquiry is important to us, and I appreciate your patience as I review the details.\\n\\nPlease feel free to reach out if you have any additional information to share.\\n\\nBest regards,\\n\\n[Your Company Name]')"
      ]
     },
     "execution_count": 65,
     "metadata": {},
     "output_type": "execute_result"
    }
   ],
   "source": [
    "similar_docs[0]"
   ]
  },
  {
   "cell_type": "code",
   "execution_count": 53,
   "id": "32803013",
   "metadata": {},
   "outputs": [
    {
     "data": {
      "text/plain": [
       "'Hi [Recipient’s Name],\\n\\nThank you for your email regarding [specific topic]. I am confirming that I have received your message. I will review the details and aim to respond by [specific date/time]. Your input is valuable, and I want to address your concerns thoroughly.\\n\\nIf you have any further information to share, please feel free to do so.\\n\\nBest regards,\\n\\n[Your Company Name]'"
      ]
     },
     "execution_count": 53,
     "metadata": {},
     "output_type": "execute_result"
    }
   ],
   "source": [
    "similar_docs[2].page_content"
   ]
  },
  {
   "cell_type": "markdown",
   "id": "077e3de6",
   "metadata": {},
   "source": [
    "# setting up rag"
   ]
  },
  {
   "cell_type": "code",
   "execution_count": 76,
   "id": "1624e739",
   "metadata": {},
   "outputs": [
    {
     "name": "stdout",
     "output_type": "stream",
     "text": [
      "{'EmailTemplates': _CollectionConfigSimple(name='EmailTemplates', description=None, generative_config=None, properties=[_Property(name='text', description=None, data_type=<DataType.TEXT: 'text'>, index_filterable=True, index_range_filters=False, index_searchable=True, nested_properties=None, tokenization=<Tokenization.WORD: 'word'>, vectorizer_config=None, vectorizer='none', vectorizer_configs=None), _Property(name='subject', description=\"This property was generated by Weaviate's auto-schema feature on Fri Jul 25 03:54:54 2025\", data_type=<DataType.TEXT: 'text'>, index_filterable=True, index_range_filters=False, index_searchable=True, nested_properties=None, tokenization=<Tokenization.WORD: 'word'>, vectorizer_config=None, vectorizer='none', vectorizer_configs=None), _Property(name='content', description=\"This property was generated by Weaviate's auto-schema feature on Fri Jul 25 03:54:54 2025\", data_type=<DataType.TEXT: 'text'>, index_filterable=True, index_range_filters=False, index_searchable=True, nested_properties=None, tokenization=<Tokenization.WORD: 'word'>, vectorizer_config=None, vectorizer='none', vectorizer_configs=None)], references=[], reranker_config=None, vectorizer_config=None, vectorizer=<Vectorizers.NONE: 'none'>, vector_config=None)}\n"
     ]
    },
    {
     "name": "stderr",
     "output_type": "stream",
     "text": [
      "/var/folders/ph/5hgyd1hn7dgcjfc5l9h535tc0000gn/T/ipykernel_82503/3604322702.py:3: ResourceWarning: unclosed <socket.socket fd=81, family=30, type=1, proto=6, laddr=('::1', 57087, 0, 0), raddr=('::1', 10011, 0, 0)>\n",
      "  vectorstore = WeaviateVectorStore(\n",
      "ResourceWarning: Enable tracemalloc to get the object allocation traceback\n"
     ]
    }
   ],
   "source": [
    "client = weaviate.connect_to_local()\n",
    "\n",
    "vectorstore = WeaviateVectorStore(\n",
    "    client=client,\n",
    "    index_name='EmailTemplates',\n",
    "    text_key='content',\n",
    "    embedding=embedder\n",
    ")\n",
    "\n",
    "print(client.collections.list_all())"
   ]
  },
  {
   "cell_type": "code",
   "execution_count": 77,
   "id": "ac4a60f8",
   "metadata": {},
   "outputs": [],
   "source": [
    "retriever = vectorstore.as_retriever(\n",
    "        search_type=\"similarity_score_threshold\",\n",
    "        search_kwargs={\"k\": 5, \"score_threshold\": 0.7}\n",
    "    )"
   ]
  },
  {
   "cell_type": "code",
   "execution_count": 78,
   "id": "620e983d",
   "metadata": {},
   "outputs": [],
   "source": [
    "retrieved_templates = retriever.invoke(struct_llm_response.retrieval_query)"
   ]
  },
  {
   "cell_type": "code",
   "execution_count": 89,
   "id": "18ecb8dc",
   "metadata": {},
   "outputs": [
    {
     "data": {
      "text/plain": [
       "'Acknowledgment of Your Email'"
      ]
     },
     "execution_count": 89,
     "metadata": {},
     "output_type": "execute_result"
    }
   ],
   "source": [
    "retrieved_templates[0].metadata['subject']"
   ]
  },
  {
   "cell_type": "code",
   "execution_count": 92,
   "id": "026e43c1",
   "metadata": {},
   "outputs": [],
   "source": [
    "retrieved_context = \"\\n\\n\".join([f'SUBJECT: {template.metadata['subject']} {template.page_content}\\n\\n' for template in retrieved_templates])"
   ]
  },
  {
   "cell_type": "code",
   "execution_count": 93,
   "id": "4db430a4",
   "metadata": {},
   "outputs": [
    {
     "data": {
      "text/plain": [
       "'SUBJECT: Acknowledgment of Your Email Dear [Recipient’s Name],\\n\\nThank you for your email. I have received your message and will get back to you shortly. Your inquiry is important to us, and I appreciate your patience as I review the details.\\n\\nPlease feel free to reach out if you have any additional information to share.\\n\\nBest regards,\\n\\n[Your Company Name]\\n\\n\\n\\nSUBJECT: Acknowledgment of Your Email Dear [Recipient’s Name],\\n\\nThank you for your email. I have received your message and will get back to you shortly. Your inquiry is important to us, and I appreciate your patience as I review the details.\\n\\nPlease feel free to reach out if you have any additional information to share.\\n\\nBest regards,\\n\\n[Your Company Name]\\n\\n'"
      ]
     },
     "execution_count": 93,
     "metadata": {},
     "output_type": "execute_result"
    }
   ],
   "source": [
    "retrieved_context"
   ]
  },
  {
   "cell_type": "code",
   "execution_count": 94,
   "id": "4f0805d1",
   "metadata": {},
   "outputs": [],
   "source": [
    "from langchain.prompts import ChatPromptTemplate\n",
    "\n",
    "rag_prompt = ChatPromptTemplate.from_template(\"\"\"\n",
    "You are a helpful email assistant. Use the retrieved email templates below to help the user craft a response.\n",
    "\n",
    "- Purpose: {purpose}\n",
    "- Intent: {intent}\n",
    "- Style: {style}\n",
    "\n",
    "Original Email:\n",
    "{email_content}\n",
    "\n",
    "User Request:\n",
    "{user_query}\n",
    "\n",
    "Relevant Examples:\n",
    "{context}\n",
    "\n",
    "Based on the above, write a clear, well-structured email. Do not copy the templates verbatim. Tailor the tone and content appropriately.\n",
    "\"\"\")\n"
   ]
  },
  {
   "cell_type": "code",
   "execution_count": 98,
   "id": "d4d4a8eb",
   "metadata": {},
   "outputs": [],
   "source": [
    "purpose = 'replying'\n",
    "intent = 'thanking'\n",
    "style = 'professional'\n",
    "\n",
    "final_messages = rag_prompt.invoke({\n",
    "    \"context\": retrieved_context,\n",
    "    \"email_content\": email,\n",
    "    \"user_query\": user_query,\n",
    "    \"purpose\": purpose,\n",
    "    \"intent\": intent,\n",
    "    \"style\": style\n",
    "}).to_messages()\n",
    "\n",
    "# final_output = llm.invoke(messages)"
   ]
  },
  {
   "cell_type": "code",
   "execution_count": 97,
   "id": "899865c2",
   "metadata": {},
   "outputs": [],
   "source": [
    "class EmailReponse(BaseModel):\n",
    "    subject: str = Field(description=\"Subject line of the email\")\n",
    "    body: str = Field(description=\"Body of the email in plain text\")\n",
    "\n",
    "email_writer = llm.with_structured_output(EmailReponse)"
   ]
  },
  {
   "cell_type": "code",
   "execution_count": 99,
   "id": "6c5a410c",
   "metadata": {},
   "outputs": [],
   "source": [
    "final_output = email_writer.invoke(final_messages)"
   ]
  },
  {
   "cell_type": "code",
   "execution_count": 100,
   "id": "2a2c6a06",
   "metadata": {},
   "outputs": [
    {
     "name": "stdout",
     "output_type": "stream",
     "text": [
      "Subject: Re: Software Engineer - Intern (Summer 2025) - Intro Call\n",
      "Body: Dear Ryan,\n",
      "\n",
      "Thank you for your email and the opportunity to move forward in the interview process for the Software Engineer - Intern (Summer 2025) position. I am very interested in this role.\n",
      "\n",
      "I am available for an introductory call at your earliest convenience. Please let me know what time works best for you, as my schedule is flexible.\n",
      "\n",
      "I look forward to speaking with you soon.\n",
      "\n",
      "Best regards,\n",
      "[Your Name]\n"
     ]
    }
   ],
   "source": [
    "print(\"Subject:\", final_output.subject)\n",
    "print(\"Body:\", final_output.body)"
   ]
  },
  {
   "cell_type": "markdown",
   "id": "d27f697d",
   "metadata": {},
   "source": [
    "for deleting the db"
   ]
  },
  {
   "cell_type": "code",
   "execution_count": 110,
   "id": "7a66ed0e",
   "metadata": {},
   "outputs": [],
   "source": [
    "# client.collections.delete('EmailTemplates')"
   ]
  },
  {
   "cell_type": "markdown",
   "id": "acc24f39",
   "metadata": {},
   "source": [
    "adding the generated output back into the vector db"
   ]
  },
  {
   "cell_type": "code",
   "execution_count": 116,
   "id": "b77c256c",
   "metadata": {},
   "outputs": [
    {
     "data": {
      "text/plain": [
       "['a76eab87-f62e-433d-9063-73adf2f62b35']"
      ]
     },
     "execution_count": 116,
     "metadata": {},
     "output_type": "execute_result"
    }
   ],
   "source": [
    "new_template = Document(\n",
    "    page_content=final_output.body,\n",
    "    metadata={\n",
    "        \"subject\":final_output.subject\n",
    "    }\n",
    ")\n",
    "\n",
    "vectorstore.add_documents([new_template])"
   ]
  },
  {
   "cell_type": "code",
   "execution_count": null,
   "id": "35ed84d3",
   "metadata": {},
   "outputs": [],
   "source": [
    "\"next integration for enhanced retrival\"\n",
    "\"\"\"\n",
    "retriever = vectorstore.as_retriever(\n",
    "    search_kwargs={\n",
    "        \"k\": 5,\n",
    "        \"filter\": {\n",
    "            \"intent\": \"thanking\",\n",
    "            \"purpose\": \"replying\",\n",
    "            \"style\": \"professional\"\n",
    "        }\n",
    "    }\n",
    ")\n",
    "\"\"\""
   ]
  },
  {
   "cell_type": "code",
   "execution_count": 117,
   "id": "427094ee",
   "metadata": {},
   "outputs": [],
   "source": [
    "client.close()"
   ]
  },
  {
   "cell_type": "markdown",
   "id": "1c7d524b",
   "metadata": {},
   "source": [
    "# modularization"
   ]
  },
  {
   "cell_type": "code",
   "execution_count": null,
   "id": "fa38f22b",
   "metadata": {},
   "outputs": [],
   "source": [
    "from pydantic import BaseModel, Field\n",
    "class ResponseFormatter(BaseModel):\n",
    "    \"\"\"Structured output for rewriting a query for semantic search over email templates.\"\"\"\n",
    "    retrieval_query: str = Field(\n",
    "        description=\"The optimized query to retrieve semantically similar email responses.\"\n",
    "    )\n",
    "    retrieval_keywords: str = Field(\n",
    "        description=\"Essential keywords (space separated) that capture the core intent of the user query.\"\n",
    "    )\n",
    "\n",
    "class EmailReponse(BaseModel):\n",
    "    subject: str = Field(description=\"Subject line of the email\")\n",
    "    body: str = Field(description=\"Body of the email in plain text\")"
   ]
  },
  {
   "cell_type": "code",
   "execution_count": 124,
   "id": "c2233c51",
   "metadata": {},
   "outputs": [],
   "source": [
    "class Rewriter:\n",
    "    def __init__(self,model):\n",
    "        self.formatter = model.with_structured_output(ResponseFormatter)\n",
    "\n",
    "    def rewrite(self,email_content: str, user_query: str, purpose: str, intent: str, style: str = 'professional') -> ResponseFormatter:\n",
    "        messages = [\n",
    "            SystemMessage(content=(\n",
    "                \"You are a professional email assistant. You will be given:\\n\"\n",
    "                \"- `email_content`: the original email text\\n\"\n",
    "                \"- `user_query`: what the user wants to write\\n\"\n",
    "                \"- `purpose`: whether the user is writing a new email or replying\\n\"\n",
    "                \"- `intent`: the goal of the email (e.g. requesting, thanking, informing, etc.)\\n\\n\"\n",
    "                f\"Use this context to reformulate the user query into a **retrieval query** that captures the user's intent \"\n",
    "                f\"and tone, optimized for semantic similarity search over email response templates.\\n\"\n",
    "                f\"The tone should match the style: {style}.\\n\\n\"\n",
    "                \"Return:\\n\"\n",
    "                \"- `retrieval_query`: one concise natural language sentence\\n\"\n",
    "                \"- `retrieval_keywords`: a space-separated list of keywords\"\n",
    "            )),\n",
    "            HumanMessage(content=f\"Email Content:\\n{email_content}\"),\n",
    "            HumanMessage(content=f\"User Query:\\n{user_query}\"),\n",
    "            HumanMessage(content=f\"Purpose: {purpose}\"),\n",
    "            HumanMessage(content=f\"Intent: {intent}\")\n",
    "        ]\n",
    "\n",
    "        response = structured_llm.invoke(messages)\n",
    "        return response"
   ]
  },
  {
   "cell_type": "code",
   "execution_count": 120,
   "id": "fab16f1a",
   "metadata": {},
   "outputs": [],
   "source": [
    "class RAG:\n",
    "    def __init__(self,model):\n",
    "        self.writer = model.with_structured_output(EmailReponse)\n",
    "        _client = weaviate.connect_to_local()\n",
    "        # for fist time creation use:\n",
    "        \"\"\"\n",
    "        vectorstore = WeaviateVectorStore.from_documents(\n",
    "            documents=email_documents,  # email_documents is a list of templates in Document objects\n",
    "            client=client,\n",
    "            index_name='EmailTemplates',\n",
    "            text_key='content',\n",
    "            embedding=embedder,\n",
    "            by_text=False\n",
    "        )\n",
    "        \"\"\"\n",
    "        self.vectorstore = WeaviateVectorStore(\n",
    "            client=_client,\n",
    "            index_name='EmailTemplates',\n",
    "            text_key='content',\n",
    "            embedding=embedder\n",
    "        )\n",
    "        self.rag_prompt = ChatPromptTemplate.from_template(\"\"\"\n",
    "            You are a helpful email assistant. Use the retrieved email templates below to help the user craft a response.\n",
    "\n",
    "            - Purpose: {purpose}\n",
    "            - Intent: {intent}\n",
    "            - Style: {style}\n",
    "\n",
    "            Original Email:\n",
    "            {email_content}\n",
    "\n",
    "            User Request:\n",
    "            {user_query}\n",
    "\n",
    "            Relevant Examples:\n",
    "            {context}\n",
    "\n",
    "            Based on the above, write a clear, well-structured email. Do not copy the templates verbatim. Tailor the tone and content appropriately.\n",
    "            \"\"\")\n",
    "        \n",
    "    def retrieve(self,rewritten_user_query, num_docs, threshold=0.7):\n",
    "        retriever = self.vectorstore.as_retriever(\n",
    "            search_type=\"similarity_score_threshold\",\n",
    "            search_kwargs={\"k\": num_docs, \"score_threshold\": threshold}\n",
    "        )\n",
    "        retrieved_templates = retriever.invoke(rewritten_user_query.retrieval_query)\n",
    "        retrieved_context = \"\\n\\n\".join([f'SUBJECT: {template.metadata['subject']} {template.page_content}\\n\\n' for template in retrieved_templates])\n",
    "        return retrieved_context\n",
    "\n",
    "    def write(self, retrieved_context,email,user_query,purpose,intent,style='professional'):\n",
    "        messages = self.rag_prompt.invoke({\n",
    "            \"context\": retrieved_context,\n",
    "            \"email_content\": email,\n",
    "            \"user_query\": user_query,\n",
    "            \"purpose\": purpose,\n",
    "            \"intent\": intent,\n",
    "            \"style\": style\n",
    "        }).to_messages()\n",
    "        \n",
    "        llm_final_output = self.writer.invoke(messages)\n",
    "        self.updatedb(llm_final_output)\n",
    "        return llm_final_output\n",
    "\n",
    "    def updatedb(self,llm_output):\n",
    "        # add a similarity check to avoid insertion of duplicates\n",
    "        # add PII removal feature before db update\n",
    "        new_template = Document(\n",
    "            page_content=llm_output.body,\n",
    "            metadata={\n",
    "                \"subject\":llm_output.subject\n",
    "            }\n",
    "        )\n",
    "\n",
    "        self.vectorstore.add_documents([new_template])"
   ]
  },
  {
   "cell_type": "markdown",
   "id": "b7383ff8",
   "metadata": {},
   "source": [
    "# testing flow"
   ]
  },
  {
   "cell_type": "code",
   "execution_count": 125,
   "id": "c293b8e6",
   "metadata": {},
   "outputs": [
    {
     "name": "stderr",
     "output_type": "stream",
     "text": [
      "/opt/anaconda3/envs/ds_mode/lib/python3.12/site-packages/weaviate/warnings.py:292: ResourceWarning: Con004: The connection to Weaviate was not closed properly. This can lead to memory leaks.\n",
      "            Please make sure to close the connection using `client.close()`.\n",
      "  warnings.warn(\n",
      "/var/folders/ph/5hgyd1hn7dgcjfc5l9h535tc0000gn/T/ipykernel_82503/3769492175.py:10: ResourceWarning: unclosed <socket.socket fd=81, family=30, type=1, proto=6, laddr=('::1', 50533, 0, 0)>\n",
      "  rag = RAG(llm)\n",
      "ResourceWarning: Enable tracemalloc to get the object allocation traceback\n"
     ]
    },
    {
     "name": "stdout",
     "output_type": "stream",
     "text": [
      "Rewritten Query: retrieval_query='Write a professional email to thank my manager for the opportunity to work on the new project.' retrieval_keywords='thank manager opportunity new project'\n"
     ]
    }
   ],
   "source": [
    "# Example email content and user query for writing a new email\n",
    "email_content = \"\"  # Empty since we're writing a new email, not replying\n",
    "user_query = \"write an email to thank my manager for the opportunity to work on the new project\"\n",
    "purpose = \"writing\"\n",
    "intent = \"thanking\"\n",
    "style = \"professional\"\n",
    "\n",
    "# Initialize Rewriter and RAG\n",
    "rewriter = Rewriter(llm)\n",
    "rag = RAG(llm)\n",
    "\n",
    "# Step 1: Rewrite the user query for retrieval\n",
    "rewritten_query = rewriter.rewrite(email_content, user_query, purpose, intent, style)\n",
    "print(\"Rewritten Query:\", rewritten_query)"
   ]
  },
  {
   "cell_type": "code",
   "execution_count": 128,
   "id": "f89da61c",
   "metadata": {},
   "outputs": [
    {
     "data": {
      "text/plain": [
       "str"
      ]
     },
     "execution_count": 128,
     "metadata": {},
     "output_type": "execute_result"
    }
   ],
   "source": [
    "type(rewritten_query.retrieval_query)"
   ]
  },
  {
   "cell_type": "code",
   "execution_count": 130,
   "id": "fed4a1d7",
   "metadata": {},
   "outputs": [
    {
     "name": "stdout",
     "output_type": "stream",
     "text": [
      "Retrieved Context: SUBJECT: Thank You for Everything! Hi [Recipient’s Name],\n",
      "\n",
      "As we conclude our work on [specific project], I wanted to express my gratitude for your support and partnership. It’s been a pleasure working with you.\n",
      "\n",
      "Wishing you all the best in your future endeavors!\n",
      "\n",
      "Sincerely,\n",
      "\n",
      "[Your Name]\n",
      "\n",
      "\n",
      "Subject: Thank You for the Opportunity\n",
      "Body: Dear [Manager's Name],\n",
      "\n",
      "I am writing to express my sincere gratitude for the opportunity to work on the new project. I am excited about this opportunity and I am confident that I can make a significant contribution.\n",
      "\n",
      "Thank you again for your trust and support. I am committed to making this project a success.\n",
      "\n",
      "Sincerely,\n",
      "[Your Name]\n"
     ]
    }
   ],
   "source": [
    "# Step 2: Retrieve relevant templates from the vectorstore\n",
    "retrieved_context = rag.retrieve(rewritten_query, num_docs=3)\n",
    "print(\"Retrieved Context:\", retrieved_context)\n",
    "\n",
    "# Step 3: Generate the final email using RAG\n",
    "final_output = rag.write(retrieved_context, email_content, user_query, purpose, intent, style)\n",
    "print(\"Subject:\", final_output.subject)\n",
    "print(\"Body:\", final_output.body)"
   ]
  },
  {
   "cell_type": "code",
   "execution_count": 131,
   "id": "7920a988",
   "metadata": {},
   "outputs": [],
   "source": [
    "client.close()"
   ]
  }
 ],
 "metadata": {
  "kernelspec": {
   "display_name": "ds_mode",
   "language": "python",
   "name": "python3"
  },
  "language_info": {
   "codemirror_mode": {
    "name": "ipython",
    "version": 3
   },
   "file_extension": ".py",
   "mimetype": "text/x-python",
   "name": "python",
   "nbconvert_exporter": "python",
   "pygments_lexer": "ipython3",
   "version": "3.12.0"
  }
 },
 "nbformat": 4,
 "nbformat_minor": 5
}
